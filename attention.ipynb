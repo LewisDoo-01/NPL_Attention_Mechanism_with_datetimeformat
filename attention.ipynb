{
 "cells": [
  {
   "cell_type": "markdown",
   "metadata": {},
   "source": [
    "# Attention Mechanism"
   ]
  },
  {
   "cell_type": "markdown",
   "metadata": {},
   "source": [
    "## Library"
   ]
  },
  {
   "cell_type": "code",
   "execution_count": 8,
   "metadata": {},
   "outputs": [
    {
     "name": "stderr",
     "output_type": "stream",
     "text": [
      "c:\\Users\\Lewis Do\\AppData\\Local\\Programs\\Python\\Python39\\lib\\site-packages\\tqdm\\auto.py:21: TqdmWarning: IProgress not found. Please update jupyter and ipywidgets. See https://ipywidgets.readthedocs.io/en/stable/user_install.html\n",
      "  from .autonotebook import tqdm as notebook_tqdm\n"
     ]
    }
   ],
   "source": [
    "import numpy as np\n",
    "import pandas as pd \n",
    "from  tensorflow.keras.preprocessing.text import Tokenizer #Xử lý văn bản với Keras\n",
    "from  tensorflow.keras.preprocessing.sequence import pad_sequences \n",
    "import matplotlib.pyplot as plt\n",
    "\n",
    "import torch   # hỗ trợ xây dựng và huấn luyện các mô hình mạng nơ-ron.\n",
    "import torch.nn as nn   #cung cấp các lớp cơ bản để xây dựng mạng nơ-ron như các lớp tích chập (convolutional),\n",
    "                        # các lớp kết nối đầy đủ (fully connected), và các lớp Recurrent Neural Networks (RNN).\n",
    "import torch.nn.functional as F  # cung cấp các hàm kích hoạt và các phép biến đổi thường được sử dụng trong mạng nơ-ron như ReLU, softmax.\n",
    "from torch import optim   # chứa các phương pháp tối ưu hóa như SGD, Adam, được sử dụng để cập nhật trọng số của mô hình trong quá trình huấn luyện.\n",
    "from torch.autograd import Variable   # cho phép theo dõi sự thay đổi của tensor trong quá trình huấn luyện để tính gradient tự động.\n",
    "from sklearn.model_selection import train_test_split\n",
    "import torch.utils.data    # cung cấp các công cụ để thao tác với dữ liệu, như DataLoader, rất hữu ích trong việc huấn luyện mô hình với dữ liệu theo lô (batches).\n",
    "import matplotlib.ticker as ticker\n",
    "from random import randint #Hàm từ thư viện random, dùng để tạo số nguyên ngẫu nhiên trong một khoảng cho trước.\n"
   ]
  },
  {
   "cell_type": "code",
   "execution_count": 9,
   "metadata": {},
   "outputs": [
    {
     "name": "stdout",
     "output_type": "stream",
     "text": [
      "data.csv\n",
      "human_vocab.json\n",
      "machine_vocab.json\n"
     ]
    }
   ],
   "source": [
    "! curl --silent -L -o data.zip \"https://drive.google.com/uc?export=download&id=1d6eUqRstk7NIpyASzbuIsDvBdHEwfU0g\"\n",
    "! unzip -q data.zip\n",
    "! ls data"
   ]
  },
  {
   "cell_type": "markdown",
   "metadata": {},
   "source": [
    "## Preprocessing"
   ]
  },
  {
   "cell_type": "markdown",
   "metadata": {},
   "source": [
    "#### Vocab dataset we are using is alphabets and numerics. No need to filter"
   ]
  },
  {
   "cell_type": "code",
   "execution_count": 25,
   "metadata": {},
   "outputs": [],
   "source": [
    "def load_data(path):\n",
    "    df = pd.read_csv(path, header=None)\n",
    "    X = df[0].values\n",
    "    y = df[1].values\n",
    "    \n",
    "    # khoi tao Tokenizer vaf chuyen doi van ban thanh chuoi so nguyen\n",
    "    x_tok = Tokenizer(char_level=True, filters='')\n",
    "    x_tok.fit_on_texts(X)\n",
    "    y_tok = Tokenizer(char_level=True, filters='')\n",
    "    y_tok.fit_on_texts(y)\n",
    "     \n",
    "    # chuyen van ban thanh chuoi cac so nguyen\n",
    "    X = x_tok.texts_to_sequences(X)\n",
    "    y = y_tok.texts_to_sequences(y)\n",
    "\n",
    "    # padding chuoi (neu can thiet)\n",
    "    X = pad_sequences(X)\n",
    "\n",
    "    # chuyen nhan y thanh chuoi numpy\n",
    "    y = np.asarray(y)\n",
    "\n",
    "    return X, y, x_tok.word_index, y_tok.word_index"
   ]
  },
  {
   "cell_type": "code",
   "execution_count": 27,
   "metadata": {},
   "outputs": [
    {
     "name": "stdout",
     "output_type": "stream",
     "text": [
      "train size :18750 - test size: 6250\n"
     ]
    }
   ],
   "source": [
    "X, y ,x_wid, y_wid = load_data('data/data.csv')\n",
    "\n",
    "# tao dict nguoc de anh xa tu so nguyen ve ki tu\n",
    "x_id2w = dict(zip(x_wid.values(), x_wid.keys()))\n",
    "y_id2w = dict(zip(y_wid.values(), y_wid.keys()))\n",
    "\n",
    "X_train, X_test, y_train, y_test = train_test_split(X, y)\n",
    "print('train size :{} - test size: {}'.format(len(X_train), len(X_test)))"
   ]
  },
  {
   "cell_type": "markdown",
   "metadata": {},
   "source": [
    "### Defines parameters"
   ]
  },
  {
   "cell_type": "code",
   "execution_count": 28,
   "metadata": {},
   "outputs": [
    {
     "name": "stdout",
     "output_type": "stream",
     "text": [
      "input vocab: 35 - output vocab: 13 - length of target: 10\n"
     ]
    }
   ],
   "source": [
    "# hidden size for LSTM\n",
    "hidden_size = 128  # xác định số lượng tế bào nơ-ron trong tầng ẩn. \n",
    "                   # Kích thước này càng lớn, mô hình càng có khả năng ghi nhớ và xử lý các mẫu phức tạp, \n",
    "                   # nhưng nó cũng sẽ tốn nhiều tài nguyên tính toán hơn.\n",
    "learning_rate = 0.001\n",
    "decoder_learning_ratio = 0.1\n",
    "\n",
    "#  sentences of vocab input\n",
    "input_size = len(x_wid) + 1 # ki tu padding\n",
    "\n",
    "output_size = len(y_wid) + 2 # can 2 ki tu bat dau va ket thuc\n",
    "\n",
    "sos_idx = len(y_wid)\n",
    "eos_idx = len(y_wid) + 1\n",
    "\n",
    "max_length = y.shape[1]\n",
    "print(\"input vocab: {} - output vocab: {} - length of target: {}\".format(input_size, output_size, max_length))\n"
   ]
  },
  {
   "cell_type": "code",
   "execution_count": 30,
   "metadata": {},
   "outputs": [],
   "source": [
    "def decoder_sentence(idxs, vocab):\n",
    "    text = ''.join([vocab[w] for w in idxs if (w > 0) and (w in vocab)])\n",
    "    return text"
   ]
  },
  {
   "attachments": {
    "image.png": {
     "image/png": "[encoded data removed]"
    }
   },
   "cell_type": "markdown",
   "metadata": {},
   "source": [
    "![image.png](attachment:image.png)"
   ]
  },
  {
   "cell_type": "code",
   "execution_count": 33,
   "metadata": {},
   "outputs": [],
   "source": [
    "class Encoder(nn.Module):\n",
    "    def __init__(self, input_size, hidden_size) -> None:\n",
    "        super(Encoder, self).__init__()\n",
    "        self.hidden_size = hidden_size\n",
    "        # embedding vocab's vector\n",
    "        self.embedding = nn.Embedding(input_size, hidden_size)\n",
    "        # GRU\n",
    "        self.gru = nn.GRU(hidden_size, hidden_size)\n",
    "\n",
    "    def forward(self, input):\n",
    "        # input: SxB\n",
    "        embedded = self.embedding(input)\n",
    "        output, hidden = self.gru(embedded)\n",
    "        return output, hidden # SxBxH, 1xBxH\n",
    "    \n",
    "class Attn(nn.Module):\n",
    "    def __init__(self, hidden_size):\n",
    "        super(Attn, self).__init__()\n",
    "    \n",
    "\n",
    "    def forward(self, hidden, encoder_outputs):\n",
    "        ### Mô hình nhận trạng thái hidden hiện tại của mô hình decoder, \n",
    "        ### và các hidden states của mô hình encoder\n",
    "        # encoder_outputs: TxBxH\n",
    "        # hidden: SxBxH\n",
    "        \n",
    "        # tranpose về đúng shape để nhận ma trận\n",
    "        encoder_outputs = torch.transpose(encoder_outputs, 0, 1) # BxTxH\n",
    "        hidden = torch.transpose(torch.transpose(hidden, 0, 1),1, 2) # BxHxS\n",
    "\n",
    "        # tính e, chính là tương tác giữ hidden và các trạng thái ẩn của mô hình encoder \n",
    "        energies = torch.bmm(encoder_outputs, hidden) # BxTxS\n",
    "        energies = torch.transpose(energies, 1, 2)\n",
    "\n",
    "        # tính alpha, chính là trọng số của trung bình có trọng số cần tính bằng hàm softmax\n",
    "        attn_weights = F.softmax(energies, dim=-1) #BxSxT\n",
    "\n",
    "        # tính context vector bằng trung binh có trọng số\n",
    "        output = torch.bmm(attn_weights, encoder_outputs) # BxSxH\n",
    "\n",
    "        # trả về chiều cần thiết\n",
    "        output = torch.transpose(output, 0, 1) # SxBxH\n",
    "        attn_weights = torch.transpose(attn_weights, 0, 1) #SxBxT\n",
    "\n",
    "        # return context vector và các trọng số alpha cho mục đích biểu diễn cơ chế attention\n",
    "        return output, attn_weights\n",
    "    \n",
    "class Decoder(nn.Module):\n",
    "    def __init__(self, output_size, hidden_size, dropout):\n",
    "        super(Decoder, self).__init__()\n",
    "        self.hidden_size = hidden_size\n",
    "        self.output_size = output_size\n",
    "\n",
    "        # vector biểu diễn cho các từ của output\n",
    "        self.embedding = nn.Embedding(output_size, hidden_size)\n",
    "\n",
    "        # định nghĩa mô hình attention ở trên\n",
    "        self.attn = Attn(hidden_size)\n",
    "        self.dropout = nn.Dropout(dropout)\n",
    "\n",
    "        # mô hình decoder là GRU\n",
    "        self.gru = nn.GRU(self.hidden_size, self.hidden_size)\n",
    "\n",
    "        # dự đoán các từ tại mội thời điểm, chúng ta nối 2 vector hidden và context lại với nhau \n",
    "        self.concat = nn.Linear(self.hidden_size*2, hidden_size)        \n",
    "        self.out = nn.Linear(self.hidden_size, self.output_size)\n",
    "        \n",
    "    def forward(self, input, hidden, encoder_outputs):\n",
    "        # input: SxB\n",
    "        # encoder_outputs: BxSxH\n",
    "        # hidden: 1xBxH\n",
    "        embedded = self.embedding(input) # 1xBxH\n",
    "        embedded = self.dropout(embedded)\n",
    "\n",
    "        # biểu diễn của câu\n",
    "        rnn_output, hidden = self.gru(embedded, hidden)  #SxBxH, 1xBxH\n",
    "\n",
    "        # tính context vector dựa trên các hidden states\n",
    "        context, attn_weights = self.attn(rnn_output, encoder_outputs) # SxBxH\n",
    "\n",
    "        # nối hidden state của mô hình decoder hiện tại và context vector để dự đoán \n",
    "        concat_input = torch.cat((rnn_output, context), -1)\n",
    "        concat_output = torch.tanh(self.concat(concat_input)) #SxBxH\n",
    "\n",
    "        # dự đoán kết quả tại mỗi thời điểm\n",
    "        output = self.out(concat_output) # SxBxoutput_size\n",
    "        return output, hidden, attn_weights"
   ]
  },
  {
   "cell_type": "markdown",
   "metadata": {},
   "source": [
    "# Test\n",
    "Chúng ta khởi tạo mô hình để kiểm tra xem mô hình có chạy được không, ít nhất là không bị lỗi về tính toán\n",
    "\n"
   ]
  },
  {
   "cell_type": "code",
   "execution_count": 34,
   "metadata": {},
   "outputs": [],
   "source": [
    "\n",
    "encoder = Encoder(input_size, hidden_size)\n",
    "decoder = Decoder(output_size, hidden_size, 0.1)\n",
    "\n",
    "# Initialize optimizers and criterion\n",
    "encoder_optimizer = optim.Adam(encoder.parameters(), lr=learning_rate)\n",
    "decoder_optimizer = optim.Adam(decoder.parameters(), lr=learning_rate * decoder_learning_ratio)\n",
    "criterion = nn.CrossEntropyLoss()\n",
    "\n",
    "\n",
    "input_encoder = torch.randint(1, input_size, (34, 6), dtype=torch.long)\n",
    "encoder_outputs, hidden = encoder(input_encoder)\n",
    "input_decoder = torch.randint(1, output_size, (10, 6), dtype=torch.long)\n",
    "output, hidden, attn_weights = decoder(input_decoder, hidden, encoder_outputs)"
   ]
  },
  {
   "cell_type": "markdown",
   "metadata": {},
   "source": [
    "# Train/Test\n",
    "Phần này chúng ta định nghĩa một số hàm để huấn luyện, dự đoán mô hình\n",
    "\n"
   ]
  },
  {
   "cell_type": "code",
   "execution_count": 35,
   "metadata": {},
   "outputs": [],
   "source": [
    "def forward_and_compute_loss(inputs, targets, encoder, decoder, criterion):\n",
    "    batch_size = inputs.size()[1]\n",
    "    \n",
    "    # định nghĩa 2 kí tự bắt đầu và kết thúc\n",
    "    sos = Variable(torch.ones((1, batch_size), dtype=torch.long)*sos_idx)\n",
    "    eos = Variable(torch.ones((1, batch_size), dtype=torch.long)*eos_idx)\n",
    "    \n",
    "    # input của mô hình decoder phải thêm kí tự bắt đầu\n",
    "    decoder_inputs = torch.cat((sos, targets), dim=0)\n",
    "    # output cần dự đoán của mô hình decoder phải thêm kí tự kết thúc\n",
    "    decoder_targets = torch.cat((targets, eos), dim=0)\n",
    "    \n",
    "    # forward tính hidden states của câu\n",
    "    encoder_outputs, encoder_hidden = encoder(inputs)\n",
    "    # tính output của mô hình decoder\n",
    "    output, hidden, attn_weights = decoder(decoder_inputs, encoder_hidden, encoder_outputs)\n",
    "    \n",
    "    output = torch.transpose(torch.transpose(output, 0, 1), 1, 2) # BxCxS\n",
    "    decoder_targets = torch.transpose(decoder_targets, 0, 1)\n",
    "    # tính loss \n",
    "    loss = criterion(output, decoder_targets)\n",
    "    \n",
    "    return loss, output\n",
    "\n",
    "def train(inputs, targets,  encoder, decoder, encoder_optimizer, decoder_optimizer, criterion):\n",
    "    # khai báo train để mô hình biết là đang train hay test\n",
    "    encoder.train()\n",
    "    decoder.train()\n",
    "    \n",
    "    # zero gradient, phải làm mỗi khi cập nhất gradient\n",
    "    encoder_optimizer.zero_grad()\n",
    "    decoder_optimizer.zero_grad()\n",
    "    \n",
    "    # tính loss dựa vào hàm đã định nghĩa ở trên\n",
    "    train_loss, output = forward_and_compute_loss(inputs, targets,encoder, decoder,criterion)    \n",
    "    \n",
    "    train_loss.backward()\n",
    "    # cập nhật một step\n",
    "    encoder_optimizer.step()\n",
    "    decoder_optimizer.step()\n",
    "    \n",
    "    # return loss để print :D\n",
    "    return train_loss.item()\n",
    "\n",
    "def evaluate(inputs, targets, encoder, decoder, criterion):\n",
    "    # báo cho mô hình biết đang test/eval\n",
    "    encoder.eval()\n",
    "    decoder.eval()\n",
    "    # tính loss\n",
    "    eval_loss, output = forward_and_compute_loss(inputs, targets, encoder, decoder,criterion)\n",
    "    output = torch.transpose(output, 1, 2)\n",
    "    # dự đoán của mỗi thời điểm các vị trí có prob lớn nhất\n",
    "    pred_idx = torch.argmax(output, dim=-1).squeeze(-1)\n",
    "    pred_idx = pred_idx.data.cpu().numpy()\n",
    "    \n",
    "    # return loss và kết quả dự đoán\n",
    "    return eval_loss.item(), pred_idx\n",
    "\n",
    "def predict(inputs, encoder, decoder, target_length=max_length):\n",
    "    ### Lúc dự đoán chúng ta cần tính kết quả ngay lập tức tại mỗi thời điểm, \n",
    "    ### rồi sau đó dừng từ được dự đoán để tính từ tiếp theo        \n",
    "    batch_size = inputs.size()[1]\n",
    "    \n",
    "    # input đầu tiên của mô hình decoder là kí tự bắt đầu, chúng ta dự đoán kí tự tiếp theo, sau đó lại dùng kí tự này để dự đoán từ kế tiếp\n",
    "    decoder_inputs = Variable(torch.ones((1, batch_size), dtype=torch.long)*sos_idx)\n",
    "    \n",
    "    # tính hidden state của mô hình encoder, cũng là vector biểu diễn của các từ, chúng ta cần tính context vector dựa trên những hidden states này\n",
    "    encoder_outputs, encoder_hidden = encoder(inputs)\n",
    "    hidden = encoder_hidden\n",
    "    \n",
    "    preds = []\n",
    "    attn_weights = []\n",
    "    # chúng ta tính từng từ tại mỗi thời điểm\n",
    "    for i in range(target_length):\n",
    "        # dự đoán từ đầu tiên\n",
    "        output, hidden, attn_weight = decoder(decoder_inputs, hidden, encoder_outputs)\n",
    "        output = output.squeeze(dim=0)\n",
    "        pred_idx = torch.argmax(output, dim=-1)\n",
    "        \n",
    "        # thay đổi input tiếp theo bằng từ vừa được dự đoán\n",
    "        decoder_inputs = Variable(torch.ones((1, batch_size), dtype=torch.long)*pred_idx)\n",
    "        preds.append(decoder_inputs)\n",
    "        attn_weights.append(attn_weight.detach())\n",
    "    \n",
    "    preds = torch.cat(preds, dim=0)\n",
    "    preds = torch.transpose(preds, 0, 1)\n",
    "    attn_weights = torch.cat(attn_weights, dim=0)\n",
    "    attn_weights = torch.transpose(attn_weights, 0, 1)\n",
    "    return preds, attn_weights"
   ]
  },
  {
   "cell_type": "markdown",
   "metadata": {},
   "source": [
    "# Train & Evaluate\n",
    "Trong phần này, chúng ta train mô hình, cũng như theo dõi độ lỗi, kết quả dự đoán tại mỗi epoch.\n",
    "\n"
   ]
  },
  {
   "cell_type": "code",
   "execution_count": 36,
   "metadata": {},
   "outputs": [
    {
     "name": "stdout",
     "output_type": "stream",
     "text": [
      "Epoch 0 - train loss: 0.284 - eval loss: 0.239\n",
      " 17 thg 1, 2014                     \t2014-11-17\n",
      " tháng 6 15 1994                    \t1994-06-25\n",
      " 4 thg 12 2000                      \t2000-12-04\n",
      "Epoch 1 - train loss: 0.093 - eval loss: 0.075\n",
      " 03 thg 1 1970                      \t1970-11-03\n",
      " thứ ba, ngày 15 tháng 4 năm 1980   \t198--04-15\n",
      " 05.09.72                           \t1972-09-05\n",
      "Epoch 2 - train loss: 0.056 - eval loss: 0.043\n",
      " 5 thg 4, 1988                      \t1988-04-05\n",
      " 5 tháng 5 1990                     \t1990-05-05\n",
      " 16 thg 11 2004                     \t2004-11-16\n",
      "Epoch 3 - train loss: 0.045 - eval loss: 0.036\n",
      " 5 thg 6, 2018                      \t2018-06-05\n",
      " tháng 9 24, 1993                   \t1993-09-24\n",
      " thứ hai, ngày 25 tháng 11 năm 1974 \t1974-11-25\n",
      "Epoch 4 - train loss: 0.022 - eval loss: 0.019\n",
      " 16 thg 2 1986                      \t1986-02-16\n",
      " 22 thg 11, 1982                    \t1982-11-22\n",
      " 14 tháng 11 1978                   \t1978-11-14\n",
      "Epoch 5 - train loss: 0.008 - eval loss: 0.011\n",
      " 15 tháng 6 2015                    \t2015-06-15\n",
      " 29 thg 10, 2000                    \t2000-10-29\n",
      " 24 02 77                           \t1977-02-24\n",
      "Epoch 6 - train loss: 0.006 - eval loss: 0.010\n",
      " 19 thg 1, 1992                     \t1992-11-19\n",
      " ngày 09 tháng 04 năm 1979          \t1979-04-09\n",
      " 17 tháng 8 2016                    \t2016-08-17\n",
      "Epoch 7 - train loss: 0.006 - eval loss: 0.009\n",
      " 8 tháng 6 1992                     \t1992-06-08\n",
      " ngày 07 tháng 01 năm 2018          \t2018-01-07\n",
      " thứ năm, ngày 02 tháng 7 năm 1981  \t1981-07-02\n",
      "Epoch 8 - train loss: 0.006 - eval loss: 0.009\n",
      " 21 thg 5, 1985                     \t1985-05-21\n",
      " 16 02 81                           \t1981-02-16\n",
      " 18, thg 9 1970                     \t1970-09-18\n",
      "Epoch 9 - train loss: 0.005 - eval loss: 0.009\n",
      " 31.12.03                           \t2003-12-31\n",
      " 10 thg 8, 1994                     \t1994-08-10\n",
      " 19/06/1979                         \t1979-06-19\n"
     ]
    }
   ],
   "source": [
    "epochs = 10\n",
    "batch_size = 64\n",
    "\n",
    "encoder = Encoder(input_size, hidden_size)\n",
    "decoder = Decoder(output_size, hidden_size, 0.1)\n",
    "\n",
    "# Initialize optimizers and criterion\n",
    "encoder_optimizer = optim.Adam(encoder.parameters(), lr=learning_rate)\n",
    "decoder_optimizer = optim.Adam(decoder.parameters(), lr=learning_rate * decoder_learning_ratio)\n",
    "criterion = nn.CrossEntropyLoss()\n",
    "\n",
    "X_val = torch.tensor(X_test, dtype=torch.long)\n",
    "y_val = torch.tensor(y_test, dtype=torch.long)\n",
    "X_val = torch.transpose(X_val, 0, 1)\n",
    "y_val = torch.transpose(y_val, 0, 1)\n",
    "\n",
    "for epoch in range(epochs):\n",
    "    for idx in range(len(X_train)//batch_size):\n",
    "        # input đầu vào của chúng ta là timestep first nhé. \n",
    "        X_train_batch = torch.tensor(X_train[batch_size*idx:batch_size*(idx+1)], dtype=torch.long)\n",
    "        y_train_batch = torch.tensor(y_train[batch_size*idx:batch_size*(idx+1)], dtype=torch.long)\n",
    "        \n",
    "        X_train_batch = torch.transpose(X_train_batch, 0, 1)\n",
    "        y_train_batch = torch.transpose(y_train_batch, 0, 1)\n",
    "        train_loss= train(X_train_batch, y_train_batch, encoder, decoder, encoder_optimizer, decoder_optimizer, criterion)\n",
    "    eval_loss, preds = evaluate(X_val, y_val, encoder, decoder, criterion)\n",
    "    \n",
    "    print('Epoch {} - train loss: {:.3f} - eval loss: {:.3f}'.format(epoch, train_loss, eval_loss))\n",
    "    print_idx = np.random.randint(0, len(preds), 3)\n",
    "    for i in print_idx:\n",
    "        x_val = decoder_sentence(X_val[:,i].numpy(), x_id2w)\n",
    "        y_pred = decoder_sentence(preds[i], y_id2w)\n",
    "        print(\" {:<35s}\\t{:>10}\".format(x_val, y_pred))"
   ]
  },
  {
   "cell_type": "markdown",
   "metadata": {},
   "source": [
    "# Predict\n",
    "Chúng ta dự đoán một vài mẫu và phân tích một số kết quả của cơ chế attention\n",
    "\n"
   ]
  },
  {
   "cell_type": "code",
   "execution_count": 37,
   "metadata": {},
   "outputs": [],
   "source": [
    "preds, attn_weights = predict(X_val ,encoder, decoder, target_length=10)"
   ]
  },
  {
   "cell_type": "code",
   "execution_count": 38,
   "metadata": {},
   "outputs": [],
   "source": [
    "def show_attention(input_sentence, output_words, attentions):\n",
    "    # Set up figure with colorbar\n",
    "    fig = plt.figure()\n",
    "    ax = fig.add_subplot(111)\n",
    "    cax = ax.matshow(attentions.numpy(), cmap='bone')\n",
    "    fig.colorbar(cax)\n",
    "\n",
    "    # Set up axes\n",
    "    ax.set_xticks(np.arange(len(input_sentence)))\n",
    "    ax.set_xticklabels(list(input_sentence), rotation=90)\n",
    "    ax.set_yticks(np.arange(len(output_words)))\n",
    "    ax.set_yticklabels(list(output_words))\n",
    "    ax.grid()\n",
    "    ax.set_xlabel('Input Sequence')\n",
    "    ax.set_ylabel('Output Sequence')\n",
    "    plt.show()"
   ]
  },
  {
   "cell_type": "markdown",
   "metadata": {},
   "source": [
    "Chọn ngẫu nhiên một câu trong tập validation để hiển thị. Khi hiển thị cơ chế attention, chúng ta có một cái nhìn về quá trình dự đoán của mô hình rõ ràng hơn, giúp đánh giá có thể interpretable hơn."
   ]
  },
  {
   "cell_type": "code",
   "execution_count": 39,
   "metadata": {},
   "outputs": [
    {
     "data": {
      "image/png": "[encoded data removed]",
      "text/plain": [
       "<Figure size 640x480 with 2 Axes>"
      ]
     },
     "metadata": {},
     "output_type": "display_data"
    }
   ],
   "source": [
    "show_idx = randint(0, len(preds))\n",
    "text_x = decoder_sentence(X_val[:,show_idx].numpy(), x_id2w)\n",
    "text_y = decoder_sentence(preds[show_idx].numpy(), y_id2w)\n",
    "attn_weight = attn_weights[show_idx, :, -len(text_x):]\n",
    "show_attention(text_x, text_y, attn_weight)"
   ]
  },
  {
   "cell_type": "code",
   "execution_count": null,
   "metadata": {},
   "outputs": [],
   "source": []
  }
 ],
 "metadata": {
  "kernelspec": {
   "display_name": "Python 3",
   "language": "python",
   "name": "python3"
  },
  "language_info": {
   "codemirror_mode": {
    "name": "ipython",
    "version": 3
   },
   "file_extension": ".py",
   "mimetype": "text/x-python",
   "name": "python",
   "nbconvert_exporter": "python",
   "pygments_lexer": "ipython3",
   "version": "3.9.13"
  }
 },
 "nbformat": 4,
 "nbformat_minor": 2
}
